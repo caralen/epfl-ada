{
 "cells": [
  {
   "cell_type": "code",
   "execution_count": 51,
   "metadata": {},
   "outputs": [],
   "source": [
    "from collections import Counter\n",
    "import csv"
   ]
  },
  {
   "cell_type": "code",
   "execution_count": 71,
   "metadata": {},
   "outputs": [],
   "source": [
    "def calc_percentage(num):\n",
    "    return round(100 * num, 2)"
   ]
  },
  {
   "cell_type": "code",
   "execution_count": 72,
   "metadata": {},
   "outputs": [
    {
     "name": "stdout",
     "output_type": "stream",
     "text": [
      "total 100.0%\n",
      "Suicide 62.67%\n",
      "M 85.67%\n",
      "F 14.33%\n",
      "Undetermined 0.8%\n",
      "Accidental 1.63%\n",
      "Homicide 34.9%\n",
      "NA 0.0%\n"
     ]
    }
   ],
   "source": [
    "cnt = Counter()\n",
    "total = 0\n",
    "\n",
    "with open('full_data.csv', 'r') as file:\n",
    "    reader = csv.DictReader(file)\n",
    "    \n",
    "    for row in reader:\n",
    "        cnt['total'] += 1\n",
    "        cnt[row['intent']] += 1\n",
    "        cnt[row['sex']] += 1\n",
    "        \n",
    "    for c in cnt:\n",
    "        print(\"{} {}%\".format(c, calc_percentage(cnt[c] / cnt['total'])))\n",
    "    "
   ]
  }
 ],
 "metadata": {
  "kernelspec": {
   "display_name": "Python 3",
   "language": "python",
   "name": "python3"
  },
  "language_info": {
   "codemirror_mode": {
    "name": "ipython",
    "version": 3
   },
   "file_extension": ".py",
   "mimetype": "text/x-python",
   "name": "python",
   "nbconvert_exporter": "python",
   "pygments_lexer": "ipython3",
   "version": "3.7.1"
  }
 },
 "nbformat": 4,
 "nbformat_minor": 2
}
